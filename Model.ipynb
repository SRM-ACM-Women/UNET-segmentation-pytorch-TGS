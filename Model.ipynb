{
  "nbformat": 4,
  "nbformat_minor": 0,
  "metadata": {
    "colab": {
      "name": "Model.ipynb",
      "provenance": [],
      "authorship_tag": "ABX9TyNpqXHlcx3f9rekVxIZvCoW",
      "include_colab_link": true
    },
    "kernelspec": {
      "name": "python3",
      "display_name": "Python 3"
    },
    "language_info": {
      "name": "python"
    }
  },
  "cells": [
    {
      "cell_type": "markdown",
      "metadata": {
        "id": "view-in-github",
        "colab_type": "text"
      },
      "source": [
        "<a href=\"https://colab.research.google.com/github/rayruchira/UNET-segmentation-pytorch-TGS/blob/main/Model.ipynb\" target=\"_parent\"><img src=\"https://colab.research.google.com/assets/colab-badge.svg\" alt=\"Open In Colab\"/></a>"
      ]
    },
    {
      "cell_type": "code",
      "metadata": {
        "id": "v8Z24JIIRkWa"
      },
      "source": [
        "import torch\n",
        "import torch.nn as nn\n",
        "import torchvision.transforms.functional as TF\n",
        "\n"
      ],
      "execution_count": 1,
      "outputs": []
    },
    {
      "cell_type": "code",
      "metadata": {
        "id": "w0-uC_M1S9sE"
      },
      "source": [
        "class DoubleConvBlock(nn.Module):\n",
        "    def __init__(self, input, output):\n",
        "        super(DoubleConvBlock,self).__init__()\n",
        "        self.block=nn.Sequential(\n",
        "            nn.Conv2d(input,output,3,1,1, bias=False), #same convolution, False cause using batchnorm\n",
        "            nn.BatchNorm2d(output),\n",
        "            nn.ReLU(inplace=True),\n",
        "            nn.Conv2d(output,output,3,1,1, bias=False), #same convolution, False cause using batchnorm\n",
        "            nn.BatchNorm2d(output),\n",
        "            nn.ReLU(inplace=True),\n",
        "          )\n",
        "    def forward( self, x):\n",
        "      return self.block(x)\n"
      ],
      "execution_count": 35,
      "outputs": []
    },
    {
      "cell_type": "code",
      "metadata": {
        "id": "bQIHcIzAUD4J"
      },
      "source": [
        "class Unet(nn.Module):\n",
        "  def __init__(self, input=3, output=1, features= [64,128,256,512]):\n",
        "    super(Unet, self).__init__()\n",
        "    self.down=nn.ModuleList()\n",
        "    self.up=nn.ModuleList()\n",
        "\n",
        "    self.pool=nn.MaxPool2d(2,2)\n",
        "\n",
        "    #going down\n",
        "    for f in features:\n",
        "      self.down.append(DoubleConvBlock(input, f)) #mapping\n",
        "      input=f\n",
        "\n",
        "    #going up\n",
        "    for f in features[::-1]:\n",
        "      self.up.append(nn.ConvTranspose2d(f*2, f, kernel_size=2, stride=2,)) #doubles height and width of image\n",
        "      self.up.append(DoubleConvBlock(f*2, f))\n",
        "\n",
        "    self.middle=DoubleConvBlock(features[-1], features[-1]*2)\n",
        "\n",
        "    #the final conv\n",
        "    self.finalConv=nn.Conv2d(features[0], output, 1)\n",
        "\n",
        "  def forward(self, x):\n",
        "    skipConnections=[]\n",
        "\n",
        "    #save the skips when going down\n",
        "    for downconv in self.down:\n",
        "      x= downconv(x)\n",
        "      skipConnections.append(x)\n",
        "      x=self.pool(x)\n",
        "    \n",
        "    #the bottleneck transition\n",
        "    x=self.middle(x)\n",
        "\n",
        "    #reverse the skip connections \n",
        "    skipConnections.reverse()\n",
        "   \n",
        "    #going up +add skips\n",
        "    for upconv in range(0, len(self.up) , 2 ): # step to 2 to add skip connection in between\n",
        "      # break up the list to add skip in between\n",
        "      x= self.up[upconv](x)\n",
        "      skip =skipConnections[upconv//2]\n",
        "\n",
        "      #incase dimension not divisible by 16\n",
        "      if x.shape != skip.shape:\n",
        "        x = TF.resize(x, size=skip.shape[2:])\n",
        "\n",
        "      # print(x.shape)\n",
        "      # print(skipConnections.shape)\n",
        "      concatSkips= torch.cat((skip, x), dim=1) #batch , channel, height , width :: we need to add along channel\n",
        "      x= self.up[upconv+1](concatSkips)\n",
        "\n",
        "\n",
        "    return self.finalConv(x)\n",
        "\n",
        "\n"
      ],
      "execution_count": 42,
      "outputs": []
    },
    {
      "cell_type": "code",
      "metadata": {
        "id": "j6c7KjvvXR1H"
      },
      "source": [
        "def test():\n",
        "  x=torch.randn((3, 3, 160, 160))\n",
        "  model= Unet(input= 3, output=3)\n",
        "  p=model(x)\n",
        "  print(p.shape, x.shape)\n",
        "  assert p.shape==x.shape"
      ],
      "execution_count": 47,
      "outputs": []
    },
    {
      "cell_type": "code",
      "metadata": {
        "colab": {
          "base_uri": "https://localhost:8080/"
        },
        "id": "ypeGOs14a1Tx",
        "outputId": "f912abc1-f408-47af-9b0f-90672fb4eee9"
      },
      "source": [
        "test()"
      ],
      "execution_count": 48,
      "outputs": [
        {
          "output_type": "stream",
          "text": [
            "torch.Size([3, 3, 160, 160]) torch.Size([3, 3, 160, 160])\n"
          ],
          "name": "stdout"
        }
      ]
    }
  ]
}